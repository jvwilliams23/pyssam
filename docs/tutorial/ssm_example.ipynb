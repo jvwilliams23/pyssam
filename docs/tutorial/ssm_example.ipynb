{
 "cells": [
  {
   "attachments": {},
   "cell_type": "markdown",
   "metadata": {},
   "source": [
    "# Statistical shape modelling with pyssam"
   ]
  },
  {
   "cell_type": "code",
   "execution_count": 2,
   "metadata": {},
   "outputs": [],
   "source": [
    "import pyssam"
   ]
  },
  {
   "cell_type": "code",
   "execution_count": 3,
   "metadata": {},
   "outputs": [],
   "source": [
    "from copy import copy\n",
    "import matplotlib.pyplot as plt\n",
    "import numpy as np"
   ]
  },
  {
   "cell_type": "markdown",
   "metadata": {},
   "source": [
    "First, we source landmark data to use in our shape model"
   ]
  },
  {
   "cell_type": "code",
   "execution_count": null,
   "metadata": {},
   "outputs": [],
   "source": [
    "LANDMARK_DIR = \"../../exampleData/gamesData/\"\n",
    "landmark_files = glob(LANDMARK_DIR + \"/landmarks*.csv\")\n",
    "if len(landmark_files) == 0:\n",
    "  raise AssertionError(\n",
    "    \"The directories you have declared are empty.\",\n",
    "    \"\\nPlease check your input arguments.\",\n",
    "  )\n",
    "\n",
    "landmark_coordinates = np.array(\n",
    "  [np.loadtxt(l, delimiter=\",\") for l in landmark_files]\n",
    ")"
   ]
  },
  {
   "attachments": {},
   "cell_type": "markdown",
   "metadata": {},
   "source": [
    "## Initialising the model"
   ]
  },
  {
   "cell_type": "markdown",
   "metadata": {},
   "source": [
    "Here we convert to landmark coordinates into a parameterised shape model. We first initialise the class, which handles all pre-processing. Then, we can compute the shape model components and mean population shape"
   ]
  },
  {
   "cell_type": "code",
   "execution_count": null,
   "metadata": {},
   "outputs": [],
   "source": [
    "ssm_obj = pyssam.SSM(landmark_coordinates)\n",
    "ssm_obj.create_pca_model(ssm_obj.landmarks_columns_scale)\n",
    "mean_shape_columnvector = ssm_obj.compute_dataset_mean()\n",
    "mean_shape = mean_shape_columnvector.reshape(-1, 3)\n",
    "shape_model_components = ssm_obj.pca_model_components"
   ]
  },
  {
   "attachments": {},
   "cell_type": "markdown",
   "metadata": {},
   "source": [
    "## Plotting and analysis"
   ]
  },
  {
   "cell_type": "code",
   "execution_count": null,
   "metadata": {},
   "outputs": [],
   "source": [
    "# Define some plotting functions\n",
    "\n",
    "def plot_cumulative_variance(explained_variance, target_variance=-1):\n",
    "    number_of_components = np.arange(0, len(explained_variance))+1\n",
    "    fig, ax = plt.subplots(1,1)\n",
    "    color = \"blue\"\n",
    "    ax.plot(number_of_components, explained_variance*100.0, marker=\"o\", ms=2, color=color, mec=color, mfc=color)\n",
    "    if target_variance > 0.0:\n",
    "        ax.axhline(target_variance*100.0)\n",
    "    \n",
    "    ax.set_ylabel(\"Variance [%]\")\n",
    "    ax.set_xlabel(\"Number of components\")\n",
    "    ax.grid(axis=\"x\")\n",
    "    plt.show()\n",
    "    \n",
    "def plot_shape_modes(\n",
    "  mean_shape_columnvector, \n",
    "  mean_shape, \n",
    "  original_shape_parameter_vector,\n",
    "  shape_model_components,\n",
    "):\n",
    "  weights = [-2, 0, 2]\n",
    "  fig, ax = plt.subplots(1, 3)\n",
    "  for j, weights_i in enumerate(weights):\n",
    "    shape_parameter_vector = copy(original_shape_parameter_vector)\n",
    "    shape_parameter_vector[mode_to_plot] = weights_i\n",
    "    mode_i_coords = ssm_obj.morph_model(\n",
    "        mean_shape_columnvector, \n",
    "        shape_model_components, \n",
    "        shape_parameter_vector\n",
    "    ).reshape(-1, 3)\n",
    "\n",
    "    offset_dist = pyssam.utils.euclidean_distance(\n",
    "      mean_shape, \n",
    "      mode_i_coords\n",
    "    )\n",
    "    # colour points blue if closer to point cloud centre than mean shape\n",
    "    mean_shape_dist_from_centre = pyssam.utils.euclidean_distance(\n",
    "      mean_shape,\n",
    "      np.zeros(3),\n",
    "    )\n",
    "    mode_i_dist_from_centre = pyssam.utils.euclidean_distance(\n",
    "      mode_i_coords,\n",
    "      np.zeros(3),\n",
    "    )\n",
    "    offset_dist = np.where(\n",
    "        mode_i_dist_from_centre<mean_shape_dist_from_centre,\n",
    "        offset_dist*-1,\n",
    "        offset_dist,\n",
    "    )\n",
    "    if weights_i == 0:\n",
    "      ax[j].scatter(\n",
    "        mode_i_coords[:, 0],\n",
    "        mode_i_coords[:, 2],\n",
    "        c=\"gray\",\n",
    "        s=1,\n",
    "      )\n",
    "      ax[j].set_title(\"mean shape\")\n",
    "    else:\n",
    "      ax[j].scatter(\n",
    "        mode_i_coords[:, 0],\n",
    "        mode_i_coords[:, 2],\n",
    "        c=offset_dist,\n",
    "        cmap=\"seismic\",\n",
    "        vmin=-1,\n",
    "        vmax=1,\n",
    "        s=1,\n",
    "      )\n",
    "      ax[j].set_title(f\"mode {mode_to_plot} \\nweight {weights_i}\")\n",
    "    ax[j].axis('off')\n",
    "    ax[j].margins(0,0)\n",
    "    ax[j].xaxis.set_major_locator(plt.NullLocator())\n",
    "    ax[j].yaxis.set_major_locator(plt.NullLocator())\n",
    "\n",
    "  plt.show()"
   ]
  },
  {
   "cell_type": "markdown",
   "metadata": {},
   "source": [
    "Generally, the first part in assessing the model once trained is visualising how the explained variance changes with an increasing number of modes. If few modes are required, it means it will be much simpler to fit the SSM to an image."
   ]
  },
  {
   "cell_type": "code",
   "execution_count": null,
   "metadata": {},
   "outputs": [],
   "source": [
    "plot_cumulative_variance(np.cumsum(ssm_obj.pca_object.explained_variance_ratio_), 0.9)"
   ]
  },
  {
   "cell_type": "markdown",
   "metadata": {},
   "source": [
    "Now the interesting part. We visualise the first three principal components, where the points are coloured by their displacement. "
   ]
  },
  {
   "cell_type": "code",
   "execution_count": null,
   "metadata": {},
   "outputs": [],
   "source": [
    "mode_to_plot = 0\n",
    "print(f\"explained variance is {ssm_obj.pca_object.explained_variance_ratio_[mode_to_plot]}\")\n",
    "\n",
    "plot_shape_modes(\n",
    "    mean_shape_columnvector, \n",
    "    mean_shape, \n",
    "    ssm_obj.model_parameters,\n",
    "    ssm_obj.pca_model_components,\n",
    ")"
   ]
  },
  {
   "cell_type": "code",
   "execution_count": null,
   "metadata": {},
   "outputs": [],
   "source": [
    "mode_to_plot = 1\n",
    "print(f\"explained variance is {ssm_obj.pca_object.explained_variance_ratio_[mode_to_plot]}\")\n",
    "\n",
    "plot_shape_modes(\n",
    "    mean_shape_columnvector, \n",
    "    mean_shape, \n",
    "    ssm_obj.model_parameters,\n",
    "    ssm_obj.pca_model_components,\n",
    ")"
   ]
  },
  {
   "cell_type": "code",
   "execution_count": null,
   "metadata": {},
   "outputs": [],
   "source": [
    "mode_to_plot = 2\n",
    "print(f\"explained variance is {ssm_obj.pca_object.explained_variance_ratio_[mode_to_plot]}\")\n",
    "\n",
    "plot_shape_modes(\n",
    "    mean_shape_columnvector, \n",
    "    mean_shape, \n",
    "    ssm_obj.model_parameters,\n",
    "    ssm_obj.pca_model_components,\n",
    ")"
   ]
  },
  {
   "cell_type": "markdown",
   "metadata": {},
   "source": [
    "When we look at the 15th mode, which accounts for around 1% for the total variance, we can see a very minor change in the lung structure"
   ]
  },
  {
   "cell_type": "code",
   "execution_count": null,
   "metadata": {},
   "outputs": [],
   "source": [
    "mode_to_plot = 15\n",
    "print(f\"explained variance is {ssm_obj.pca_object.explained_variance_ratio_[mode_to_plot]}\")\n",
    "\n",
    "plot_shape_modes(\n",
    "    mean_shape_columnvector, \n",
    "    mean_shape, \n",
    "    ssm_obj.model_parameters,\n",
    "    ssm_obj.pca_model_components,\n",
    ")"
   ]
  }
 ],
 "metadata": {
  "kernelspec": {
   "display_name": "Python 3.7.9 ('base')",
   "language": "python",
   "name": "python3"
  },
  "language_info": {
   "codemirror_mode": {
    "name": "ipython",
    "version": 3
   },
   "file_extension": ".py",
   "mimetype": "text/x-python",
   "name": "python",
   "nbconvert_exporter": "python",
   "pygments_lexer": "ipython3",
   "version": "3.7.9"
  },
  "vscode": {
   "interpreter": {
    "hash": "c7c03aa6dbe1fc099129898cb5b37ebffd933a6a266a26661260c739a0a0cd6c"
   }
  }
 },
 "nbformat": 4,
 "nbformat_minor": 4
}
